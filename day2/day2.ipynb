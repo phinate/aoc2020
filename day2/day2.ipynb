{
 "cells": [
  {
   "cell_type": "markdown",
   "metadata": {},
   "source": [
    "## Part 1\n",
    "- create lists (not dicts!!!!) of policy, password pairs\n",
    "    - remember not all keys or passwords are necessarily unique!\n",
    "- check if password letter freq is within range specified by policy\n",
    "    - use Counter data structure -- counts for us :)"
   ]
  },
  {
   "cell_type": "code",
   "execution_count": null,
   "metadata": {},
   "outputs": [],
   "source": [
    "from collections import Counter"
   ]
  },
  {
   "cell_type": "code",
   "execution_count": 53,
   "metadata": {},
   "outputs": [],
   "source": [
    "d = []\n",
    "\n",
    "with open(\"input.txt\", \"r\") as file:\n",
    "    for i, line in enumerate(file.readlines()):\n",
    "        key, value = line.split(\":\")\n",
    "        value = value.strip(\"\\n\").strip()\n",
    "        d.append([key, value])"
   ]
  },
  {
   "cell_type": "code",
   "execution_count": 57,
   "metadata": {},
   "outputs": [
    {
     "data": {
      "text/plain": [
       "1000"
      ]
     },
     "execution_count": 57,
     "metadata": {},
     "output_type": "execute_result"
    }
   ],
   "source": [
    "len(d)"
   ]
  },
  {
   "cell_type": "code",
   "execution_count": 58,
   "metadata": {},
   "outputs": [],
   "source": [
    "passed = []\n",
    "\n",
    "for entry in d:\n",
    "    policy, password = entry\n",
    "    limits, letter = policy.split()\n",
    "    low, hi = [int(x) for x in limits.split(\"-\")]\n",
    "\n",
    "    counts = Counter(password)[letter]\n",
    "    cond = (counts >= low) and (counts <= hi)\n",
    "    passed.append(cond)"
   ]
  },
  {
   "cell_type": "code",
   "execution_count": 59,
   "metadata": {},
   "outputs": [
    {
     "data": {
      "text/plain": [
       "572"
      ]
     },
     "execution_count": 59,
     "metadata": {},
     "output_type": "execute_result"
    }
   ],
   "source": [
    "sum(passed)"
   ]
  },
  {
   "cell_type": "markdown",
   "metadata": {},
   "source": [
    "## Part 2"
   ]
  },
  {
   "cell_type": "code",
   "execution_count": 60,
   "metadata": {},
   "outputs": [
    {
     "data": {
      "text/plain": [
       "306"
      ]
     },
     "execution_count": 60,
     "metadata": {},
     "output_type": "execute_result"
    }
   ],
   "source": [
    "passed = []\n",
    "\n",
    "for entry in d:\n",
    "    policy, password = entry\n",
    "    limits, letter = policy.split()\n",
    "    pos1, pos2 = [int(x) - 1 for x in limits.split(\"-\")]\n",
    "\n",
    "    cond = (password[pos1] == letter) != (password[pos2] == letter)\n",
    "    passed.append(cond)\n",
    "\n",
    "sum(passed)"
   ]
  },
  {
   "cell_type": "code",
   "execution_count": null,
   "metadata": {},
   "outputs": [],
   "source": []
  }
 ],
 "metadata": {
  "kernelspec": {
   "display_name": "aoc",
   "language": "python",
   "name": "aoc"
  },
  "language_info": {
   "codemirror_mode": {
    "name": "ipython",
    "version": 3
   },
   "file_extension": ".py",
   "mimetype": "text/x-python",
   "name": "python",
   "nbconvert_exporter": "python",
   "pygments_lexer": "ipython3",
   "version": "3.8.3"
  }
 },
 "nbformat": 4,
 "nbformat_minor": 4
}
