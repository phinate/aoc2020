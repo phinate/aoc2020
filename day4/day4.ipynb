{
 "cells": [
  {
   "cell_type": "code",
   "execution_count": 28,
   "metadata": {},
   "outputs": [],
   "source": [
    "passports = []\n",
    "with open('input', 'r') as file:\n",
    "    p_dict = {}\n",
    "    for line in file.readlines() + [\"\"]:\n",
    "        #print(type(line),p_dict)\n",
    "        if line.strip():\n",
    "            for pair in line.split():\n",
    "                key, value = pair.split(':')\n",
    "                p_dict[key] = value\n",
    "        else:\n",
    "            passports.append(p_dict)\n",
    "            p_dict = {}"
   ]
  },
  {
   "cell_type": "code",
   "execution_count": null,
   "metadata": {},
   "outputs": [],
   "source": []
  },
  {
   "cell_type": "code",
   "execution_count": 6,
   "metadata": {},
   "outputs": [],
   "source": [
    "from typing import NamedTuple\n",
    "\n",
    "\n",
    "class Passport(NamedTuple):\n",
    "    byr: int # (Birth Year)\n",
    "    iyr: int # (Issue Year)\n",
    "    eyr: int # (Expiration Year)\n",
    "    hgt: str # (Height)\n",
    "    hcl: str # (Hair Color)\n",
    "    ecl: str # (Eye Color)\n",
    "    pid: int # (Passport ID)\n",
    "    #cid: int # (Country ID)"
   ]
  },
  {
   "cell_type": "code",
   "execution_count": 42,
   "metadata": {},
   "outputs": [
    {
     "ename": "TypeError",
     "evalue": "__new__() missing 6 required positional arguments: 'iyr', 'eyr', 'hgt', 'hcl', 'ecl', and 'pid'",
     "output_type": "error",
     "traceback": [
      "\u001b[0;31m---------------------------------------------------------------------------\u001b[0m",
      "\u001b[0;31mTypeError\u001b[0m                                 Traceback (most recent call last)",
      "\u001b[0;32m<ipython-input-42-e73e113d4c49>\u001b[0m in \u001b[0;36m<module>\u001b[0;34m\u001b[0m\n\u001b[0;32m----> 1\u001b[0;31m \u001b[0mPassport\u001b[0m\u001b[0;34m(\u001b[0m\u001b[0mbyr\u001b[0m\u001b[0;34m=\u001b[0m\u001b[0;34m'1999'\u001b[0m\u001b[0;34m)\u001b[0m\u001b[0;34m\u001b[0m\u001b[0;34m\u001b[0m\u001b[0m\n\u001b[0m",
      "\u001b[0;31mTypeError\u001b[0m: __new__() missing 6 required positional arguments: 'iyr', 'eyr', 'hgt', 'hcl', 'ecl', and 'pid'"
     ]
    }
   ],
   "source": [
    "Passport(byr='1999')"
   ]
  },
  {
   "cell_type": "code",
   "execution_count": 41,
   "metadata": {},
   "outputs": [
    {
     "name": "stdout",
     "output_type": "stream",
     "text": [
      "__new__() missing 1 required positional argument: 'ecl'\n",
      "__new__() missing 1 required positional argument: 'pid'\n",
      "__new__() missing 1 required positional argument: 'ecl'\n",
      "__new__() missing 1 required positional argument: 'pid'\n",
      "__new__() missing 1 required positional argument: 'eyr'\n",
      "__new__() missing 2 required positional arguments: 'ecl' and 'pid'\n",
      "__new__() missing 1 required positional argument: 'eyr'\n",
      "__new__() missing 1 required positional argument: 'eyr'\n",
      "__new__() missing 2 required positional arguments: 'byr' and 'ecl'\n",
      "__new__() missing 2 required positional arguments: 'iyr' and 'hgt'\n",
      "__new__() missing 1 required positional argument: 'pid'\n",
      "__new__() missing 1 required positional argument: 'eyr'\n",
      "__new__() missing 1 required positional argument: 'eyr'\n",
      "__new__() missing 1 required positional argument: 'byr'\n",
      "__new__() missing 1 required positional argument: 'iyr'\n",
      "__new__() missing 1 required positional argument: 'byr'\n",
      "__new__() missing 1 required positional argument: 'byr'\n",
      "__new__() missing 1 required positional argument: 'byr'\n",
      "__new__() missing 1 required positional argument: 'byr'\n",
      "__new__() missing 1 required positional argument: 'eyr'\n",
      "__new__() missing 2 required positional arguments: 'byr' and 'hgt'\n",
      "__new__() missing 1 required positional argument: 'eyr'\n",
      "__new__() missing 1 required positional argument: 'hcl'\n",
      "__new__() missing 1 required positional argument: 'hgt'\n",
      "__new__() missing 1 required positional argument: 'hcl'\n",
      "__new__() missing 1 required positional argument: 'ecl'\n",
      "__new__() missing 2 required positional arguments: 'byr' and 'hgt'\n",
      "__new__() missing 1 required positional argument: 'iyr'\n",
      "__new__() missing 1 required positional argument: 'hgt'\n"
     ]
    },
    {
     "data": {
      "text/plain": [
       "227"
      ]
     },
     "execution_count": 41,
     "metadata": {},
     "output_type": "execute_result"
    }
   ],
   "source": [
    "pass_dict = {'ecl': 'brn',\n",
    "             'pid': 9337568136,\n",
    "             'eyr': 2026,\n",
    "             'hcl': '#6b5442',\n",
    "             'hgt': '69cm',\n",
    "             #'iyr' :2019,\n",
    "             'byr': 2025}\n",
    "    \n",
    "valid = 0\n",
    "for p_dict in passports:\n",
    "    p_dict.pop('cid', None)\n",
    "\n",
    "    try:\n",
    "        Passport(**p_dict)\n",
    "        valid += 1\n",
    "    except Exception as e:\n",
    "        print(e)\n",
    "        #print('bad passport!')\n",
    "        #raise err\n",
    "valid"
   ]
  },
  {
   "cell_type": "code",
   "execution_count": 4,
   "metadata": {},
   "outputs": [
    {
     "ename": "NameError",
     "evalue": "name 'Passport' is not defined",
     "output_type": "error",
     "traceback": [
      "\u001b[0;31m---------------------------------------------------------------------------\u001b[0m",
      "\u001b[0;31mNameError\u001b[0m                                 Traceback (most recent call last)",
      "\u001b[0;32m<ipython-input-4-5ff094c91223>\u001b[0m in \u001b[0;36m<module>\u001b[0;34m\u001b[0m\n\u001b[0;32m----> 1\u001b[0;31m \u001b[0mPassport\u001b[0m\u001b[0;34m(\u001b[0m\u001b[0;34m**\u001b[0m\u001b[0mpass_dict\u001b[0m\u001b[0;34m)\u001b[0m\u001b[0;34m\u001b[0m\u001b[0;34m\u001b[0m\u001b[0m\n\u001b[0m",
      "\u001b[0;31mNameError\u001b[0m: name 'Passport' is not defined"
     ]
    }
   ],
   "source": [
    "Passport(**pass_dict)"
   ]
  },
  {
   "cell_type": "code",
   "execution_count": null,
   "metadata": {},
   "outputs": [],
   "source": []
  }
 ],
 "metadata": {
  "kernelspec": {
   "display_name": "aoc",
   "language": "python",
   "name": "aoc"
  },
  "language_info": {
   "codemirror_mode": {
    "name": "ipython",
    "version": 3
   },
   "file_extension": ".py",
   "mimetype": "text/x-python",
   "name": "python",
   "nbconvert_exporter": "python",
   "pygments_lexer": "ipython3",
   "version": "3.8.3"
  }
 },
 "nbformat": 4,
 "nbformat_minor": 4
}
