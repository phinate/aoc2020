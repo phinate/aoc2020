{
 "cells": [
  {
   "cell_type": "markdown",
   "metadata": {},
   "source": [
    "## Day 3\n",
    "- "
   ]
  },
  {
   "cell_type": "code",
   "execution_count": 48,
   "metadata": {},
   "outputs": [],
   "source": [
    "slope = []\n",
    "\n",
    "with open('input.txt', 'r') as file:\n",
    "    for line in file.readlines():\n",
    "        slope.append(line.strip('\\n'))"
   ]
  },
  {
   "cell_type": "code",
   "execution_count": 58,
   "metadata": {},
   "outputs": [],
   "source": [
    "period = len(slope[0])\n",
    "filelength = len(slope)-1\n",
    "def check_slope(shifts):\n",
    "    horiz, vert = shifts\n",
    "    counter = 0\n",
    "    i = 0\n",
    "    j = 0\n",
    "    while j + vert <= filelength:\n",
    "        #print(j, filelength)\n",
    "        if i + horiz > period - 1:\n",
    "            i = i + horiz - period\n",
    "        else:\n",
    "            i += horiz\n",
    "        j += vert\n",
    "        #print(j, filelength)\n",
    "        val = slope[j][i]\n",
    "        if val == '#': counter += 1\n",
    "    return counter\n"
   ]
  },
  {
   "cell_type": "code",
   "execution_count": 59,
   "metadata": {},
   "outputs": [],
   "source": [
    "slopes = [[1,1],[3,1],[5,1],[7,1],[1,2]]"
   ]
  },
  {
   "cell_type": "code",
   "execution_count": 62,
   "metadata": {},
   "outputs": [
    {
     "data": {
      "text/plain": [
       "3898725600"
      ]
     },
     "execution_count": 62,
     "metadata": {},
     "output_type": "execute_result"
    }
   ],
   "source": [
    "from math import prod\n",
    "\n",
    "prod(list(map(check_slope, slopes)))"
   ]
  },
  {
   "cell_type": "code",
   "execution_count": null,
   "metadata": {},
   "outputs": [],
   "source": []
  }
 ],
 "metadata": {
  "kernelspec": {
   "display_name": "aoc",
   "language": "python",
   "name": "aoc"
  },
  "language_info": {
   "codemirror_mode": {
    "name": "ipython",
    "version": 3
   },
   "file_extension": ".py",
   "mimetype": "text/x-python",
   "name": "python",
   "nbconvert_exporter": "python",
   "pygments_lexer": "ipython3",
   "version": "3.8.3"
  }
 },
 "nbformat": 4,
 "nbformat_minor": 4
}
